{
 "cells": [
  {
   "cell_type": "code",
   "execution_count": null,
   "id": "18e061ad-f440-4fc7-a5e4-0da70790b878",
   "metadata": {},
   "outputs": [
    {
     "name": "stdin",
     "output_type": "stream",
     "text": [
      "\n",
      "1. Register\n",
      "2. Login\n",
      "3. Exit\n",
      "Choose an action:  2\n",
      "Enter username:  bhawna\n",
      "Enter password:  keswani\n"
     ]
    },
    {
     "name": "stdout",
     "output_type": "stream",
     "text": [
      "Login successful!\n",
      "\n",
      "1. Add Task\n",
      "2. View Tasks\n",
      "3. Mark Task Completed\n",
      "4. Delete Task\n",
      "5. Logout\n"
     ]
    },
    {
     "name": "stdin",
     "output_type": "stream",
     "text": [
      "Select an option:  2\n"
     ]
    },
    {
     "name": "stdout",
     "output_type": "stream",
     "text": [
      "\n",
      "Your Tasks:\n",
      "[❌] bbd83e36-96f0-4eb8-9ddb-6ee1f0da94e0: work - homework\n",
      "[✔️] 066ebe7d-8887-416a-b88b-eb38bc303d43: exercise - physica;\n",
      "[❌] 147d8edf-9ce0-48e2-abf8-7f5b6cc41814: home - row\n",
      "[❌] 53447150-3564-49cc-85f1-f9abe570fc6a: win - dows\n",
      "\n",
      "1. Add Task\n",
      "2. View Tasks\n",
      "3. Mark Task Completed\n",
      "4. Delete Task\n",
      "5. Logout\n"
     ]
    },
    {
     "name": "stdin",
     "output_type": "stream",
     "text": [
      "Select an option:  4\n",
      "Enter the task ID to delete:  53447150-3564-49cc-85f1-f9abe570fc6a\n"
     ]
    },
    {
     "name": "stdout",
     "output_type": "stream",
     "text": [
      "Task 'win' deleted.\n",
      "\n",
      "1. Add Task\n",
      "2. View Tasks\n",
      "3. Mark Task Completed\n",
      "4. Delete Task\n",
      "5. Logout\n"
     ]
    },
    {
     "name": "stdin",
     "output_type": "stream",
     "text": [
      "Select an option:  2\n"
     ]
    },
    {
     "name": "stdout",
     "output_type": "stream",
     "text": [
      "\n",
      "Your Tasks:\n",
      "[❌] bbd83e36-96f0-4eb8-9ddb-6ee1f0da94e0: work - homework\n",
      "[✔️] 066ebe7d-8887-416a-b88b-eb38bc303d43: exercise - physica;\n",
      "[❌] 147d8edf-9ce0-48e2-abf8-7f5b6cc41814: home - row\n",
      "\n",
      "1. Add Task\n",
      "2. View Tasks\n",
      "3. Mark Task Completed\n",
      "4. Delete Task\n",
      "5. Logout\n"
     ]
    }
   ],
   "source": [
    "### import uuid\n",
    "import json\n",
    "import os\n",
    "\n",
    "def load_users():\n",
    "    if os.path.exists(\"users.json\"):\n",
    "        with open(\"users.json\", \"r\") as f:\n",
    "            return json.load(f)\n",
    "    return {}\n",
    "\n",
    "def save_users(users):\n",
    "    with open(\"users.json\", \"w\") as f:\n",
    "        json.dump(users, f, indent=4)\n",
    "\n",
    "def register(users):\n",
    "    username = input(\"Enter a username: \")\n",
    "    if username in users:\n",
    "        print(\"Username already exists.\")\n",
    "        return\n",
    "    password = input(\"Enter a password: \")\n",
    "    users[username] = {\"password\": password, \"tasks\": []}\n",
    "    save_users(users)\n",
    "    print(\"User is registered successfully!\")\n",
    "\n",
    "def login(users):\n",
    "    username = input(\"Enter username: \")\n",
    "    password = input(\"Enter password: \")\n",
    "    if username in users and users[username]['password'] == password:\n",
    "        print(\"Login successful!\")\n",
    "        return username\n",
    "    print(\"Invalid username or password.\")\n",
    "    return None\n",
    "\n",
    "def add_task(users, username):\n",
    "    title = input(\"Enter task title: \")\n",
    "    description = input(\"Enter task description: \")\n",
    "    task_id = str(uuid.uuid4())\n",
    "    users[username]['tasks'].append({\"id\": task_id, \"title\": title, \"description\": description, \"completed\": False})\n",
    "    save_users(users)\n",
    "\n",
    "def view_tasks(users, username):\n",
    "    tasks = users[username]['tasks']\n",
    "    print(\"\\nYour Tasks:\")\n",
    "    if not tasks:\n",
    "        print(\"No tasks available.\")\n",
    "    for task in tasks:\n",
    "         if task['completed']:\n",
    "             status = \"✔️\"\n",
    "         else:\n",
    "             status= \"❌\"\n",
    "         print(f\"[{status}] {task['id']}: {task['title']} - {task['description']}\")\n",
    "\n",
    "def mark_completed(users, username):\n",
    "    tasks = users[username]['tasks']\n",
    "    task_id = input(\"Enter the task ID to mark as completed: \")\n",
    "    print(task_id)\n",
    "    for task in tasks:\n",
    "        if task['id'] == task_id:\n",
    "            task['completed'] = True\n",
    "            save_users(users)\n",
    "            print(f\"Task '{task['title']}' marked as completed.\")\n",
    "            return\n",
    "    print(\"Invalid task ID.\")\n",
    "\n",
    "def delete_task(users, username):\n",
    "    tasks = users[username]['tasks']\n",
    "    task_id = input(\"Enter the task ID to delete: \")\n",
    "    for task in tasks:\n",
    "        if task['id'] == task_id:\n",
    "            tasks.remove(task)\n",
    "            save_users(users)\n",
    "            print(f\"Task '{task['title']}' deleted.\")\n",
    "            return\n",
    "    print(\"Invalid task ID.\")\n",
    "\n",
    "def main():\n",
    "    users = load_users()\n",
    "    current_user = None\n",
    "\n",
    "    while True:\n",
    "        if current_user is None:\n",
    "            action = input(\"\\n1. Register\\n2. Login\\n3. Exit\\nChoose an action: \")\n",
    "            if action == '1':\n",
    "                register(users)\n",
    "            elif action == '2':\n",
    "                current_user = login(users)\n",
    "            elif action == '3':\n",
    "                break\n",
    "            else:\n",
    "                print(\"Invalid choice. Please try again.\")\n",
    "        else:\n",
    "            while True:\n",
    "                print(\"\\n1. Add Task\\n2. View Tasks\\n3. Mark Task Completed\\n4. Delete Task\\n5. Logout\")\n",
    "                choice = input(\"Select an option: \")\n",
    "\n",
    "                if choice == '1':\n",
    "                    add_task(users, current_user)\n",
    "                elif choice == '2':\n",
    "                    view_tasks(users, current_user)\n",
    "                elif choice == '3':\n",
    "                    mark_completed(users, current_user)\n",
    "                elif choice == '4':\n",
    "                    delete_task(users, current_user)\n",
    "                elif choice == '5':\n",
    "                    print(\"Logging out...\")\n",
    "                    current_user = None\n",
    "                    break\n",
    "                else:\n",
    "                    print(\"Invalid option. Please try again.\")\n",
    "\n",
    "if __name__ == \"__main__\":\n",
    "    main()"
   ]
  },
  {
   "cell_type": "code",
   "execution_count": null,
   "id": "7c352201-f9ee-4da8-8e5a-3dc749ce42b8",
   "metadata": {},
   "outputs": [],
   "source": []
  },
  {
   "cell_type": "code",
   "execution_count": null,
   "id": "6025d704-8227-44e5-9827-da790d44516f",
   "metadata": {},
   "outputs": [],
   "source": []
  }
 ],
 "metadata": {
  "kernelspec": {
   "display_name": "Python [conda env:base] *",
   "language": "python",
   "name": "conda-base-py"
  },
  "language_info": {
   "codemirror_mode": {
    "name": "ipython",
    "version": 3
   },
   "file_extension": ".py",
   "mimetype": "text/x-python",
   "name": "python",
   "nbconvert_exporter": "python",
   "pygments_lexer": "ipython3",
   "version": "3.12.7"
  }
 },
 "nbformat": 4,
 "nbformat_minor": 5
}
